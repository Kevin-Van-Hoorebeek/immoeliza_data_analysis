{
 "cells": [
  {
   "cell_type": "code",
   "id": "4226c2f9605b06bf",
   "metadata": {
    "ExecuteTime": {
     "end_time": "2024-10-16T14:25:07.169251Z",
     "start_time": "2024-10-16T14:25:07.150736Z"
    }
   },
   "source": [
    "import pandas as pd\n",
    "from IPython.display import display\n",
    "import matplotlib.pyplot as plt\n",
    "import numpy as np\n",
    "\n",
    "# Load your CSV file\n",
    "df = pd.read_csv('../Data/Cleaned/sanitized_property_listings_Kelli.csv')\n",
    "\n",
    "# Check if df is None\n",
    "if df is None:\n",
    "    print(\"DataFrame not loaded correctly, df is None.\")\n",
    "else:\n",
    "    print(\"DataFrame loaded successfully.\")\n",
    "\n",
    "# Display the first few rows in a more readable format\n",
    "display(df.head(10))\n",
    "\n",
    "# Check the shape of the DataFrame\n",
    "print(df.shape)  # This will display the shape of the DataFrame\n"
   ],
   "outputs": [
    {
     "name": "stdout",
     "output_type": "stream",
     "text": [
      "DataFrame loaded successfully.\n"
     ]
    },
    {
     "data": {
      "text/plain": [
       "   Unnamed: 0  Property ID  Locality data   Price Property type  \\\n",
       "0           0     20245694           9550  198800         house   \n",
       "1           1     20246399           2170  349000         house   \n",
       "2           2     20245215           4102  199900         house   \n",
       "3           3     20245396           9620  349000         house   \n",
       "4           4     20245133           1200  795000         house   \n",
       "5           5     20244275           8500  455000         house   \n",
       "6           6     20244687           9860  455000         house   \n",
       "7           7     20241273           6220  315000         house   \n",
       "8           8     20242318           1120  477000         house   \n",
       "9           9     20244297           4140  298000         house   \n",
       "\n",
       "   Number of bedrooms  Living area m²  Equipped kitchen  Furnished  Open fire  \\\n",
       "0                 3.0           125.0                 0          0          1   \n",
       "1                 3.0           193.0                 1          0          1   \n",
       "2                 3.0           131.0                 1          0          1   \n",
       "3                 4.0           237.0                 0          0          1   \n",
       "4                 5.0           225.0                 1          0          1   \n",
       "5                 4.0           187.0                 1          0          1   \n",
       "6                 3.0           147.0                 0          0          1   \n",
       "7                 2.0           100.0                 0          0          1   \n",
       "8                 5.0           186.0                 0          0          1   \n",
       "9                 4.0           242.0                 1          0          1   \n",
       "\n",
       "   Terrace surface m²  Garden area m²  Number of facades  Swimming pool  \\\n",
       "0                45.0           106.0                2.0              0   \n",
       "1                 NaN            53.0                2.0              0   \n",
       "2                40.0            30.0                2.0              0   \n",
       "3                16.0           390.0                4.0              0   \n",
       "4                15.0           120.0                2.0              0   \n",
       "5                 NaN           100.0                NaN              0   \n",
       "6                16.0            77.0                3.0              0   \n",
       "7                14.0          1030.0                4.0              0   \n",
       "8                30.0           120.0                2.0              0   \n",
       "9                80.0           147.0                2.0              0   \n",
       "\n",
       "  Building condition  \n",
       "0        To renovate  \n",
       "1      To be done up  \n",
       "2             As new  \n",
       "3        To renovate  \n",
       "4        To renovate  \n",
       "5               Good  \n",
       "6     Just renovated  \n",
       "7      To be done up  \n",
       "8             As new  \n",
       "9               Good  "
      ],
      "text/html": [
       "<div>\n",
       "<style scoped>\n",
       "    .dataframe tbody tr th:only-of-type {\n",
       "        vertical-align: middle;\n",
       "    }\n",
       "\n",
       "    .dataframe tbody tr th {\n",
       "        vertical-align: top;\n",
       "    }\n",
       "\n",
       "    .dataframe thead th {\n",
       "        text-align: right;\n",
       "    }\n",
       "</style>\n",
       "<table border=\"1\" class=\"dataframe\">\n",
       "  <thead>\n",
       "    <tr style=\"text-align: right;\">\n",
       "      <th></th>\n",
       "      <th>Unnamed: 0</th>\n",
       "      <th>Property ID</th>\n",
       "      <th>Locality data</th>\n",
       "      <th>Price</th>\n",
       "      <th>Property type</th>\n",
       "      <th>Number of bedrooms</th>\n",
       "      <th>Living area m²</th>\n",
       "      <th>Equipped kitchen</th>\n",
       "      <th>Furnished</th>\n",
       "      <th>Open fire</th>\n",
       "      <th>Terrace surface m²</th>\n",
       "      <th>Garden area m²</th>\n",
       "      <th>Number of facades</th>\n",
       "      <th>Swimming pool</th>\n",
       "      <th>Building condition</th>\n",
       "    </tr>\n",
       "  </thead>\n",
       "  <tbody>\n",
       "    <tr>\n",
       "      <th>0</th>\n",
       "      <td>0</td>\n",
       "      <td>20245694</td>\n",
       "      <td>9550</td>\n",
       "      <td>198800</td>\n",
       "      <td>house</td>\n",
       "      <td>3.0</td>\n",
       "      <td>125.0</td>\n",
       "      <td>0</td>\n",
       "      <td>0</td>\n",
       "      <td>1</td>\n",
       "      <td>45.0</td>\n",
       "      <td>106.0</td>\n",
       "      <td>2.0</td>\n",
       "      <td>0</td>\n",
       "      <td>To renovate</td>\n",
       "    </tr>\n",
       "    <tr>\n",
       "      <th>1</th>\n",
       "      <td>1</td>\n",
       "      <td>20246399</td>\n",
       "      <td>2170</td>\n",
       "      <td>349000</td>\n",
       "      <td>house</td>\n",
       "      <td>3.0</td>\n",
       "      <td>193.0</td>\n",
       "      <td>1</td>\n",
       "      <td>0</td>\n",
       "      <td>1</td>\n",
       "      <td>NaN</td>\n",
       "      <td>53.0</td>\n",
       "      <td>2.0</td>\n",
       "      <td>0</td>\n",
       "      <td>To be done up</td>\n",
       "    </tr>\n",
       "    <tr>\n",
       "      <th>2</th>\n",
       "      <td>2</td>\n",
       "      <td>20245215</td>\n",
       "      <td>4102</td>\n",
       "      <td>199900</td>\n",
       "      <td>house</td>\n",
       "      <td>3.0</td>\n",
       "      <td>131.0</td>\n",
       "      <td>1</td>\n",
       "      <td>0</td>\n",
       "      <td>1</td>\n",
       "      <td>40.0</td>\n",
       "      <td>30.0</td>\n",
       "      <td>2.0</td>\n",
       "      <td>0</td>\n",
       "      <td>As new</td>\n",
       "    </tr>\n",
       "    <tr>\n",
       "      <th>3</th>\n",
       "      <td>3</td>\n",
       "      <td>20245396</td>\n",
       "      <td>9620</td>\n",
       "      <td>349000</td>\n",
       "      <td>house</td>\n",
       "      <td>4.0</td>\n",
       "      <td>237.0</td>\n",
       "      <td>0</td>\n",
       "      <td>0</td>\n",
       "      <td>1</td>\n",
       "      <td>16.0</td>\n",
       "      <td>390.0</td>\n",
       "      <td>4.0</td>\n",
       "      <td>0</td>\n",
       "      <td>To renovate</td>\n",
       "    </tr>\n",
       "    <tr>\n",
       "      <th>4</th>\n",
       "      <td>4</td>\n",
       "      <td>20245133</td>\n",
       "      <td>1200</td>\n",
       "      <td>795000</td>\n",
       "      <td>house</td>\n",
       "      <td>5.0</td>\n",
       "      <td>225.0</td>\n",
       "      <td>1</td>\n",
       "      <td>0</td>\n",
       "      <td>1</td>\n",
       "      <td>15.0</td>\n",
       "      <td>120.0</td>\n",
       "      <td>2.0</td>\n",
       "      <td>0</td>\n",
       "      <td>To renovate</td>\n",
       "    </tr>\n",
       "    <tr>\n",
       "      <th>5</th>\n",
       "      <td>5</td>\n",
       "      <td>20244275</td>\n",
       "      <td>8500</td>\n",
       "      <td>455000</td>\n",
       "      <td>house</td>\n",
       "      <td>4.0</td>\n",
       "      <td>187.0</td>\n",
       "      <td>1</td>\n",
       "      <td>0</td>\n",
       "      <td>1</td>\n",
       "      <td>NaN</td>\n",
       "      <td>100.0</td>\n",
       "      <td>NaN</td>\n",
       "      <td>0</td>\n",
       "      <td>Good</td>\n",
       "    </tr>\n",
       "    <tr>\n",
       "      <th>6</th>\n",
       "      <td>6</td>\n",
       "      <td>20244687</td>\n",
       "      <td>9860</td>\n",
       "      <td>455000</td>\n",
       "      <td>house</td>\n",
       "      <td>3.0</td>\n",
       "      <td>147.0</td>\n",
       "      <td>0</td>\n",
       "      <td>0</td>\n",
       "      <td>1</td>\n",
       "      <td>16.0</td>\n",
       "      <td>77.0</td>\n",
       "      <td>3.0</td>\n",
       "      <td>0</td>\n",
       "      <td>Just renovated</td>\n",
       "    </tr>\n",
       "    <tr>\n",
       "      <th>7</th>\n",
       "      <td>7</td>\n",
       "      <td>20241273</td>\n",
       "      <td>6220</td>\n",
       "      <td>315000</td>\n",
       "      <td>house</td>\n",
       "      <td>2.0</td>\n",
       "      <td>100.0</td>\n",
       "      <td>0</td>\n",
       "      <td>0</td>\n",
       "      <td>1</td>\n",
       "      <td>14.0</td>\n",
       "      <td>1030.0</td>\n",
       "      <td>4.0</td>\n",
       "      <td>0</td>\n",
       "      <td>To be done up</td>\n",
       "    </tr>\n",
       "    <tr>\n",
       "      <th>8</th>\n",
       "      <td>8</td>\n",
       "      <td>20242318</td>\n",
       "      <td>1120</td>\n",
       "      <td>477000</td>\n",
       "      <td>house</td>\n",
       "      <td>5.0</td>\n",
       "      <td>186.0</td>\n",
       "      <td>0</td>\n",
       "      <td>0</td>\n",
       "      <td>1</td>\n",
       "      <td>30.0</td>\n",
       "      <td>120.0</td>\n",
       "      <td>2.0</td>\n",
       "      <td>0</td>\n",
       "      <td>As new</td>\n",
       "    </tr>\n",
       "    <tr>\n",
       "      <th>9</th>\n",
       "      <td>9</td>\n",
       "      <td>20244297</td>\n",
       "      <td>4140</td>\n",
       "      <td>298000</td>\n",
       "      <td>house</td>\n",
       "      <td>4.0</td>\n",
       "      <td>242.0</td>\n",
       "      <td>1</td>\n",
       "      <td>0</td>\n",
       "      <td>1</td>\n",
       "      <td>80.0</td>\n",
       "      <td>147.0</td>\n",
       "      <td>2.0</td>\n",
       "      <td>0</td>\n",
       "      <td>Good</td>\n",
       "    </tr>\n",
       "  </tbody>\n",
       "</table>\n",
       "</div>"
      ]
     },
     "metadata": {},
     "output_type": "display_data"
    },
    {
     "name": "stdout",
     "output_type": "stream",
     "text": [
      "(10114, 15)\n"
     ]
    }
   ],
   "execution_count": 9
  },
  {
   "cell_type": "markdown",
   "id": "e7c59228b0b0b419",
   "metadata": {},
   "source": [
    "### Further data cleaning"
   ]
  },
  {
   "cell_type": "code",
   "id": "62412d3b4fadd922",
   "metadata": {
    "ExecuteTime": {
     "end_time": "2024-10-16T14:03:51.472792Z",
     "start_time": "2024-10-16T14:03:51.469361Z"
    }
   },
   "source": [
    "df.drop(labels=['Number of facades'], axis=1, inplace=True)"
   ],
   "outputs": [],
   "execution_count": 7
  },
  {
   "cell_type": "code",
   "id": "6f3f88e0c5a83d50",
   "metadata": {
    "ExecuteTime": {
     "end_time": "2024-10-16T14:06:50.818640Z",
     "start_time": "2024-10-16T14:06:50.749089Z"
    }
   },
   "source": [
    "# Drop rows with NaN in specific columns without assignment\n",
    "df.dropna(subset=['Living area m²', 'Number of bedrooms', 'Building condition'], inplace=True)\n",
    "\n",
    "# Check the new shape of df\n",
    "print(df.shape)\n",
    "\n",
    "df.to_csv(\"Data/Cleaned/sanitized_property_listings_Kelli_final.csv\", index=False)\n"
   ],
   "outputs": [
    {
     "name": "stdout",
     "output_type": "stream",
     "text": [
      "(9033, 14)\n"
     ]
    }
   ],
   "execution_count": 11
  },
  {
   "cell_type": "markdown",
   "id": "32d34cff0c3f0cb6",
   "metadata": {
    "ExecuteTime": {
     "end_time": "2024-10-16T13:50:36.435591Z",
     "start_time": "2024-10-16T13:50:36.428801Z"
    }
   },
   "source": [
    "### Boxplot to identify outliers"
   ]
  },
  {
   "cell_type": "code",
   "id": "5ec2ca11e646551f",
   "metadata": {
    "ExecuteTime": {
     "end_time": "2024-10-16T14:04:12.868215Z",
     "start_time": "2024-10-16T14:04:12.281303Z"
    }
   },
   "source": [
    "min_price = df['Price'].min()\n",
    "max_price = df['Price'].max()\n",
    "\n",
    "log_min_price = np.log1p(min_price)\n",
    "log_max_price = np.log1p(max_price)\n",
    "\n",
    "# Log-transform the 'Price' column (add 1 to avoid log(0))\n",
    "log_price = np.log1p(df['Price'])\n",
    "\n",
    "# Create a boxplot for the log-transformed prices\n",
    "plt.figure(figsize=(8, 6))\n",
    "\n",
    "# Boxplot with custom color\n",
    "box = plt.boxplot(log_price, vert=True, patch_artist=True, boxprops=dict(facecolor='lightblue'))\n",
    "\n",
    "# Add gridlines for better readability\n",
    "plt.grid(True, which='both', linestyle='--', linewidth=0.5)\n",
    "\n",
    "# Correct axis labels\n",
    "plt.title('Log-Transformed Boxplot of Property Prices', weight='bold')\n",
    "plt.ylabel('Price (log)')\n",
    "plt.xlabel('Property Listings')\n",
    "\n",
    "# Annotate the approximate max and min prices on the plot\n",
    "\n",
    "plt.annotate(f'Max: {int(max_price):,}', xy=(1, log_max_price), xytext=(1.1, log_max_price),\n",
    "             arrowprops=dict(facecolor='red', shrink=0.05), fontsize=10, color='red')\n",
    "\n",
    "plt.annotate(f'Min: {int(min_price):,}', xy=(1, log_min_price), xytext=(1.1, log_min_price),\n",
    "             arrowprops=dict(facecolor='blue', shrink=0.05), fontsize=10, color='blue')\n",
    "\n",
    "# Show the plot\n",
    "plt.show()\n",
    "\n"
   ],
   "outputs": [
    {
     "data": {
      "text/plain": [
       "<Figure size 800x600 with 1 Axes>"
      ],
      "image/png": "[encoded data removed]"
     },
     "metadata": {},
     "output_type": "display_data"
    }
   ],
   "execution_count": 9
  },
  {
   "metadata": {
    "ExecuteTime": {
     "end_time": "2024-10-16T14:25:10.810790Z",
     "start_time": "2024-10-16T14:25:10.802127Z"
    }
   },
   "cell_type": "code",
   "source": [
    "# Checking the unique values in the 'Building condition' column and counting how many different categories there are\n",
    "unique_building_conditions = df['Building condition'].value_counts()\n",
    "unique_building_conditions\n",
    "\n",
    "# Count unique values in 'Building condition' column\n",
    "unique_building_conditions = df['Building condition'].value_counts()\n",
    "\n",
    "# Display the unique categories and their counts\n",
    "print(unique_building_conditions)\n"
   ],
   "id": "86ab75cb2c71bfee",
   "outputs": [
    {
     "name": "stdout",
     "output_type": "stream",
     "text": [
      "Building condition\n",
      "Good              4207\n",
      "As new            2274\n",
      "To renovate       1020\n",
      "To be done up      868\n",
      "Just renovated     754\n",
      "To restore          34\n",
      "Name: count, dtype: int64\n"
     ]
    }
   ],
   "execution_count": 10
  },
  {
   "metadata": {},
   "cell_type": "code",
   "outputs": [],
   "execution_count": null,
   "source": "",
   "id": "ca92baf9cb0415ad"
  }
 ],
 "metadata": {
  "kernelspec": {
   "display_name": "Python 3 (ipykernel)",
   "language": "python",
   "name": "python3"
  },
  "language_info": {
   "codemirror_mode": {
    "name": "ipython",
    "version": 3
   },
   "file_extension": ".py",
   "mimetype": "text/x-python",
   "name": "python",
   "nbconvert_exporter": "python",
   "pygments_lexer": "ipython3",
   "version": "3.12.2"
  }
 },
 "nbformat": 4,
 "nbformat_minor": 5
}
